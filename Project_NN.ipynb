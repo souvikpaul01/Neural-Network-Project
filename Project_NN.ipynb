{
  "nbformat": 4,
  "nbformat_minor": 0,
  "metadata": {
    "colab": {
      "name": "Project_NN.ipynb",
      "provenance": []
    },
    "kernelspec": {
      "name": "python3",
      "display_name": "Python 3"
    },
    "accelerator": "GPU"
  },
  "cells": [
    {
      "cell_type": "code",
      "metadata": {
        "id": "AlkOwVffGteU",
        "colab_type": "code",
        "colab": {}
      },
      "source": [
        "#! pip uninstall -y tensorflow\n",
        "#! pip uninstall -y tf-nightly\n",
        "#! pip install -U tf-nightly-gpu\n",
        "#! pip install tensorflow-model-optimization"
      ],
      "execution_count": 0,
      "outputs": []
    },
    {
      "cell_type": "code",
      "metadata": {
        "id": "sgkerog9l-c9",
        "colab_type": "code",
        "outputId": "8dce0fe5-eb3d-4831-f735-b02737f7a8e1",
        "colab": {
          "base_uri": "https://localhost:8080/",
          "height": 34
        }
      },
      "source": [
        "import tensorflow as tf\n",
        "import tempfile\n",
        "import zipfile\n",
        "import os\n",
        "import h5py\n",
        "import numpy as np\n",
        "import glob\n",
        "from numpy import linalg as LA\n",
        "from scipy.stats import rankdata\n",
        "from shutil import copyfile, move\n",
        "import matplotlib.pyplot as plt\n",
        "from keras.models import Sequential\n",
        "from keras.layers import Dense, Dropout, Flatten , InputLayer\n",
        "from keras.layers import Conv2D, MaxPooling2D"
      ],
      "execution_count": 0,
      "outputs": [
        {
          "output_type": "stream",
          "text": [
            "Using TensorFlow backend.\n"
          ],
          "name": "stderr"
        }
      ]
    },
    {
      "cell_type": "code",
      "metadata": {
        "id": "opTK1-HTGkzR",
        "colab_type": "code",
        "outputId": "06d99d07-81a4-4ba5-a402-da02464d6a28",
        "colab": {
          "base_uri": "https://localhost:8080/",
          "height": 102
        }
      },
      "source": [
        "batch_size = 128\n",
        "num_classes = 10\n",
        "epochs = 10\n",
        "\n",
        "# input image dimensions\n",
        "img_rows, img_cols = 28, 28\n",
        "\n",
        "# the data, shuffled and split between train and test sets\n",
        "(x_train, y_train), (x_test, y_test) = tf.keras.datasets.mnist.load_data()\n",
        "\n",
        "x_train = x_train.reshape(x_train.shape[0], img_rows*img_cols)\n",
        "x_test = x_test.reshape(x_test.shape[0], img_rows* img_cols)\n",
        "input_shape = (img_rows* img_cols, )\n",
        "\n",
        "x_train = x_train.astype('float32')\n",
        "x_test = x_test.astype('float32')\n",
        "x_train /= 255\n",
        "x_test /= 255\n",
        "print('x_train shape:', x_train.shape)\n",
        "print(x_train.shape[0], 'train samples')\n",
        "print(x_test.shape[0], 'test samples')\n",
        "\n",
        "# convert class vectors to binary class matrices\n",
        "y_train = tf.keras.utils.to_categorical(y_train, num_classes)\n",
        "y_test = tf.keras.utils.to_categorical(y_test, num_classes)"
      ],
      "execution_count": 0,
      "outputs": [
        {
          "output_type": "stream",
          "text": [
            "Downloading data from https://storage.googleapis.com/tensorflow/tf-keras-datasets/mnist.npz\n",
            "11493376/11490434 [==============================] - 0s 0us/step\n",
            "x_train shape: (60000, 784)\n",
            "60000 train samples\n",
            "10000 test samples\n"
          ],
          "name": "stdout"
        }
      ]
    },
    {
      "cell_type": "code",
      "metadata": {
        "id": "Qd5qpa1Bt88G",
        "colab_type": "code",
        "colab": {}
      },
      "source": [
        "# Define the model(Sequential)\n",
        "model = tf.keras.models.Sequential()\n",
        "model.add(tf.keras.layers.Dense(128, input_shape = input_shape))\n",
        "model.add(tf.keras.layers.Flatten())\n",
        "model.add(tf.keras.layers.Dense(128, activation=tf.nn.relu))\n",
        "model.add(tf.keras.layers.Dense(128, activation=tf.nn.relu))\n",
        "model.add(tf.keras.layers.Dense(10,activation=tf.nn.softmax))\n"
      ],
      "execution_count": 0,
      "outputs": []
    },
    {
      "cell_type": "code",
      "metadata": {
        "id": "9fx27X3wH8LJ",
        "colab_type": "code",
        "outputId": "359663fa-07ed-4634-bf65-6b36cc100639",
        "colab": {
          "base_uri": "https://localhost:8080/",
          "height": 323
        }
      },
      "source": [
        "model.summary()"
      ],
      "execution_count": 0,
      "outputs": [
        {
          "output_type": "stream",
          "text": [
            "Model: \"sequential_3\"\n",
            "_________________________________________________________________\n",
            "Layer (type)                 Output Shape              Param #   \n",
            "=================================================================\n",
            "dense_13 (Dense)             (None, 128)               100480    \n",
            "_________________________________________________________________\n",
            "flatten_2 (Flatten)          (None, 128)               0         \n",
            "_________________________________________________________________\n",
            "dense_14 (Dense)             (None, 128)               16512     \n",
            "_________________________________________________________________\n",
            "dense_15 (Dense)             (None, 128)               16512     \n",
            "_________________________________________________________________\n",
            "dense_16 (Dense)             (None, 10)                1290      \n",
            "=================================================================\n",
            "Total params: 134,794\n",
            "Trainable params: 134,794\n",
            "Non-trainable params: 0\n",
            "_________________________________________________________________\n"
          ],
          "name": "stdout"
        }
      ]
    },
    {
      "cell_type": "code",
      "metadata": {
        "id": "CK0HrUPMtyWD",
        "colab_type": "code",
        "outputId": "db89d8d7-d481-4844-df4d-00f91220e9e1",
        "colab": {
          "base_uri": "https://localhost:8080/",
          "height": 391
        }
      },
      "source": [
        "logdir = tempfile.mkdtemp()\n",
        "callbacks = [tf.keras.callbacks.TensorBoard(log_dir=logdir, profile_batch=0)]\n",
        "\n",
        "model.compile(\n",
        "    loss=tf.keras.losses.categorical_crossentropy,\n",
        "    optimizer='adam',\n",
        "    metrics=['accuracy'])\n",
        "\n",
        "model.fit(x_train, y_train,\n",
        "          batch_size=batch_size,\n",
        "          epochs=10\n",
        "          )\n",
        "score = model.evaluate(x_test, y_test, verbose=0)\n",
        "print('Test loss:', score[0])\n",
        "print('Test accuracy:', score[1])"
      ],
      "execution_count": 0,
      "outputs": [
        {
          "output_type": "stream",
          "text": [
            "Epoch 1/10\n",
            "469/469 [==============================] - 2s 3ms/step - loss: 0.3019 - accuracy: 0.9115\n",
            "Epoch 2/10\n",
            "469/469 [==============================] - 2s 4ms/step - loss: 0.1260 - accuracy: 0.9617\n",
            "Epoch 3/10\n",
            "469/469 [==============================] - 2s 4ms/step - loss: 0.0911 - accuracy: 0.9722\n",
            "Epoch 4/10\n",
            "469/469 [==============================] - 2s 3ms/step - loss: 0.0699 - accuracy: 0.9776\n",
            "Epoch 5/10\n",
            "469/469 [==============================] - 2s 3ms/step - loss: 0.0616 - accuracy: 0.9800\n",
            "Epoch 6/10\n",
            "469/469 [==============================] - 2s 3ms/step - loss: 0.0491 - accuracy: 0.9840\n",
            "Epoch 7/10\n",
            "469/469 [==============================] - 2s 3ms/step - loss: 0.0425 - accuracy: 0.9863\n",
            "Epoch 8/10\n",
            "469/469 [==============================] - 2s 4ms/step - loss: 0.0360 - accuracy: 0.9880\n",
            "Epoch 9/10\n",
            "469/469 [==============================] - 2s 4ms/step - loss: 0.0318 - accuracy: 0.9896\n",
            "Epoch 10/10\n",
            "469/469 [==============================] - 2s 3ms/step - loss: 0.0299 - accuracy: 0.9898\n",
            "Test loss: 0.07606638222932816\n",
            "Test accuracy: 0.9782999753952026\n"
          ],
          "name": "stdout"
        }
      ]
    },
    {
      "cell_type": "code",
      "metadata": {
        "id": "Ev3O8EPSZE0n",
        "colab_type": "code",
        "colab": {}
      },
      "source": [
        "#Save model\n",
        "_, model_file = tempfile.mkstemp('.h5')\n",
        "tf.keras.models.save_model(model, model_file, include_optimizer=False)"
      ],
      "execution_count": 0,
      "outputs": []
    },
    {
      "cell_type": "markdown",
      "metadata": {
        "id": "I1W3oGc8Xf12",
        "colab_type": "text"
      },
      "source": [
        "# Weight pruning"
      ]
    },
    {
      "cell_type": "code",
      "metadata": {
        "id": "gptJSUTOauhM",
        "colab_type": "code",
        "colab": {}
      },
      "source": [
        "for k in [.25, .50, .60, .70, .80, .90, .95, .97, .99]:\n",
        "  copyfile(model_file,\"/tmp/orig.h5\")\n",
        "  f = h5py.File(\"/tmp/orig.h5\",'r+')\n",
        "  ranks = {}\n",
        "  for l in list(f['model_weights'])[:-1]:\n",
        "#   for l in ['dense', 'dense_1', 'dense_2', 'dense_3']:\n",
        "    data = f['model_weights'][l][l]['kernel:0']\n",
        "    w = np.array(data)\n",
        "    ranks[l]=(rankdata(np.abs(w),method='dense') - 1).astype(int).reshape(w.shape)\n",
        "    lower_bound_rank = np.ceil(np.max(ranks[l])*k).astype(int)\n",
        "    ranks[l][ranks[l]<=lower_bound_rank] = 0\n",
        "    ranks[l][ranks[l]>lower_bound_rank] = 1\n",
        "    w = w*ranks[l]\n",
        "    data[...] = w\n",
        "  f.close()\n",
        "  move(\"/tmp/orig.h5\",\"/tmp/weight_\"+str(k)+\".h5\")"
      ],
      "execution_count": 0,
      "outputs": []
    },
    {
      "cell_type": "markdown",
      "metadata": {
        "id": "HiisDLknXiiu",
        "colab_type": "text"
      },
      "source": [
        "# Neuron pruning"
      ]
    },
    {
      "cell_type": "code",
      "metadata": {
        "id": "r1YO9MRyXl71",
        "colab_type": "code",
        "colab": {}
      },
      "source": [
        "for k in [.25, .50, .60, .70, .80, .90, .95, .97, .99]:\n",
        "  copyfile(model_file,\"/tmp/orig.h5\")\n",
        "  f = h5py.File(\"/tmp/orig.h5\",'r+')\n",
        "  ranks = {}\n",
        "  for l in list(f['model_weights'])[:-1]:\n",
        "#   for l in ['dense', 'dense_1', 'dense_2', 'dense_3']:\n",
        "    data = f['model_weights'][l][l]['kernel:0']\n",
        "    w = np.array(data)\n",
        "    norm = LA.norm(w,axis=0)\n",
        "    norm = np.tile(norm,(w.shape[0],1))\n",
        "    ranks[l] = (rankdata(norm,method='dense') - 1).astype(int).reshape(norm.shape)\n",
        "    lower_bound_rank = np.ceil(np.max(ranks[l])*k).astype(int)\n",
        "    ranks[l][ranks[l]<=lower_bound_rank] = 0\n",
        "    ranks[l][ranks[l]>lower_bound_rank] = 1\n",
        "    w = w*ranks[l]\n",
        "    data[...] = w\n",
        "  f.close()\n",
        "  move(\"/tmp/orig.h5\",\"/tmp/neuron\"+str(k)+\".h5\")"
      ],
      "execution_count": 0,
      "outputs": []
    },
    {
      "cell_type": "code",
      "metadata": {
        "id": "z4oP6FDKuOJE",
        "colab_type": "code",
        "outputId": "4362d5ae-0333-4292-b281-de3b72ee78dd",
        "colab": {
          "base_uri": "https://localhost:8080/",
          "height": 88
        }
      },
      "source": [
        "files_weights = glob.glob('/tmp/weight*.h5')\n",
        "files_weights.sort()\n",
        "files_neuron = glob.glob('/tmp/neuron*.h5')\n",
        "files_neuron.sort()\n",
        "  \n",
        "accuracy_weights = []\n",
        "accuracy_neurons = []\n",
        "\n",
        "for f in files_weights:\n",
        "  restored_model = tf.keras.models.load_model(f,compile=False)\n",
        "  restored_model.compile(\n",
        "    loss=tf.keras.losses.categorical_crossentropy,\n",
        "    optimizer='adam',\n",
        "    metrics=['accuracy'])\n",
        "  score = restored_model.evaluate(x_test, y_test, verbose=0)\n",
        "  fl = h5py.File(f)\n",
        "  params = 0\n",
        "  accuracy_weights.append(score[1])\n",
        "\n",
        "\n",
        "\n",
        "for f in files_neuron:\n",
        "  restored_model = tf.keras.models.load_model(f,compile=False)\n",
        "  restored_model.compile(\n",
        "    loss=tf.keras.losses.categorical_crossentropy,\n",
        "    optimizer='adam',\n",
        "    metrics=['accuracy'])\n",
        "  score = restored_model.evaluate(x_test, y_test, verbose=0)\n",
        "  fl = h5py.File(f)\n",
        "  params = 0\n",
        "  accuracy_neurons.append(score[1])"
      ],
      "execution_count": 0,
      "outputs": [
        {
          "output_type": "stream",
          "text": [
            "/usr/local/lib/python3.6/dist-packages/ipykernel_launcher.py:16: H5pyDeprecationWarning: The default file mode will change to 'r' (read-only) in h5py 3.0. To suppress this warning, pass the mode you need to h5py.File(), or set the global default h5.get_config().default_file_mode, or set the environment variable H5PY_DEFAULT_READONLY=1. Available modes are: 'r', 'r+', 'w', 'w-'/'x', 'a'. See the docs for details.\n",
            "  app.launch_new_instance()\n",
            "/usr/local/lib/python3.6/dist-packages/ipykernel_launcher.py:29: H5pyDeprecationWarning: The default file mode will change to 'r' (read-only) in h5py 3.0. To suppress this warning, pass the mode you need to h5py.File(), or set the global default h5.get_config().default_file_mode, or set the environment variable H5PY_DEFAULT_READONLY=1. Available modes are: 'r', 'r+', 'w', 'w-'/'x', 'a'. See the docs for details.\n"
          ],
          "name": "stderr"
        }
      ]
    },
    {
      "cell_type": "code",
      "metadata": {
        "id": "EGvrfdnxZQV_",
        "colab_type": "code",
        "outputId": "6688594e-1469-45ee-ff64-26390a301c42",
        "colab": {
          "base_uri": "https://localhost:8080/",
          "height": 313
        }
      },
      "source": [
        "import matplotlib.pyplot as plt\n",
        "import matplotlib.patches as mpatches\n",
        "plt.rcParams['figure.constrained_layout.use'] = True\n",
        "plt.xlabel('% sparsity')\n",
        "plt.ylabel('% accuracy')\n",
        "red_patch = mpatches.Patch(color='red', label='Neuron Pruning')\n",
        "blue_patch = mpatches.Patch(color='blue',label='Weight Pruning')\n",
        "plt.legend(handles=[red_patch,blue_patch],loc='upper right')\n",
        "plt.plot([.25, .50, .60, .70, .80, .90, .95, .97, .99],accuracy_neurons,color='red')\n",
        "plt.plot([.25, .50, .60, .70, .80, .90, .95, .97, .99],accuracy_weights,color='blue')\n",
        "plt.show()"
      ],
      "execution_count": 0,
      "outputs": [
        {
          "output_type": "display_data",
          "data": {
            "image/png": "[encoded data removed]",
            "text/plain": [
              "<Figure size 432x288 with 1 Axes>"
            ]
          },
          "metadata": {
            "tags": [],
            "needs_background": "light"
          }
        }
      ]
    },
    {
      "cell_type": "code",
      "metadata": {
        "id": "Egstyp8b-037",
        "colab_type": "code",
        "outputId": "b4b6ef4a-7cb4-4eda-ad1d-19613a50435f",
        "colab": {
          "base_uri": "https://localhost:8080/",
          "height": 663
        }
      },
      "source": [
        "pruned_keras_files = files_neuron+files_weights\n",
        "_, zip1 = tempfile.mkstemp('.zip') \n",
        "with zipfile.ZipFile(zip1, 'w', compression=zipfile.ZIP_DEFLATED) as f:\n",
        "  f.write(model_file)\n",
        "print(\"Size of the unpruned model before compression: %.2f Mb\" % \n",
        "      (os.path.getsize(model_file) / float(2**20)))\n",
        "print(\"Size of the unpruned model after compression: %.2f Mb\" % \n",
        "      (os.path.getsize(zip1) / float(2**20)))\n",
        "\n",
        "for pruned_keras_file in pruned_keras_files:\n",
        "  _, zip2 = tempfile.mkstemp('.zip') \n",
        "  with zipfile.ZipFile(zip2, 'w', compression=zipfile.ZIP_DEFLATED) as f:\n",
        "    f.write(pruned_keras_file)\n",
        "  print(\"Size of the pruned model before compression: %.2f Mb\" % \n",
        "        (os.path.getsize(pruned_keras_file) / float(2**20)))\n",
        "  print(\"Size of the pruned model after compression: %.2f Mb\" % \n",
        "        (os.path.getsize(zip2) / float(2**20)))\n",
        "\n"
      ],
      "execution_count": 0,
      "outputs": [
        {
          "output_type": "stream",
          "text": [
            "Size of the unpruned model before compression: 0.60 Mb\n",
            "Size of the unpruned model after compression: 0.54 Mb\n",
            "Size of the pruned model before compression: 0.60 Mb\n",
            "Size of the pruned model after compression: 0.45 Mb\n",
            "Size of the pruned model before compression: 0.60 Mb\n",
            "Size of the pruned model after compression: 0.33 Mb\n",
            "Size of the pruned model before compression: 0.60 Mb\n",
            "Size of the pruned model after compression: 0.28 Mb\n",
            "Size of the pruned model before compression: 0.60 Mb\n",
            "Size of the pruned model after compression: 0.23 Mb\n",
            "Size of the pruned model before compression: 0.60 Mb\n",
            "Size of the pruned model after compression: 0.17 Mb\n",
            "Size of the pruned model before compression: 0.60 Mb\n",
            "Size of the pruned model after compression: 0.11 Mb\n",
            "Size of the pruned model before compression: 0.60 Mb\n",
            "Size of the pruned model after compression: 0.08 Mb\n",
            "Size of the pruned model before compression: 0.60 Mb\n",
            "Size of the pruned model after compression: 0.06 Mb\n",
            "Size of the pruned model before compression: 0.60 Mb\n",
            "Size of the pruned model after compression: 0.05 Mb\n",
            "Size of the pruned model before compression: 0.60 Mb\n",
            "Size of the pruned model after compression: 0.44 Mb\n",
            "Size of the pruned model before compression: 0.60 Mb\n",
            "Size of the pruned model after compression: 0.33 Mb\n",
            "Size of the pruned model before compression: 0.60 Mb\n",
            "Size of the pruned model after compression: 0.28 Mb\n",
            "Size of the pruned model before compression: 0.60 Mb\n",
            "Size of the pruned model after compression: 0.23 Mb\n",
            "Size of the pruned model before compression: 0.60 Mb\n",
            "Size of the pruned model after compression: 0.17 Mb\n",
            "Size of the pruned model before compression: 0.60 Mb\n",
            "Size of the pruned model after compression: 0.11 Mb\n",
            "Size of the pruned model before compression: 0.60 Mb\n",
            "Size of the pruned model after compression: 0.08 Mb\n",
            "Size of the pruned model before compression: 0.60 Mb\n",
            "Size of the pruned model after compression: 0.07 Mb\n",
            "Size of the pruned model before compression: 0.60 Mb\n",
            "Size of the pruned model after compression: 0.05 Mb\n"
          ],
          "name": "stdout"
        }
      ]
    },
    {
      "cell_type": "code",
      "metadata": {
        "id": "5w6vKZ3gWime",
        "colab_type": "code",
        "colab": {}
      },
      "source": [
        "import numpy as np\n",
        "import keras\n",
        "from keras import backend as K\n",
        "\n",
        "model = keras.Sequential()\n",
        "model.add(keras.layers.Dense(20, input_shape = (10, )))\n",
        "model.add(keras.layers.Dense(5))\n",
        "model.compile('adam', 'mse')\n",
        "\n",
        "dummy_in = np.ones((4, 10))\n",
        "dummy_out = np.ones((4, 5))\n",
        "dummy_loss = model.train_on_batch(dummy_in, dummy_out)\n",
        "\n",
        "def get_weight_grad(model, inputs, outputs):\n",
        "    \"\"\" Gets gradient of model for given inputs and outputs for all weights\"\"\"\n",
        "    grads = model.optimizer.get_gradients(model.total_loss, model.trainable_weights)\n",
        "    symb_inputs = (model._feed_inputs + model._feed_targets + model._feed_sample_weights)\n",
        "    f = K.function(symb_inputs, grads)\n",
        "    x, y, sample_weight = model._standardize_user_data(inputs, outputs)\n",
        "    output_grad = f(x + y + sample_weight)\n",
        "    return output_grad\n",
        "\n",
        "\n",
        "def get_layer_output_grad(model, inputs, outputs, layer=-1):\n",
        "    \"\"\" Gets gradient a layer output for given inputs and outputs\"\"\"\n",
        "    grads = model.optimizer.get_gradients(model.total_loss, model.layers[layer].output)\n",
        "    symb_inputs = (model._feed_inputs + model._feed_targets + model._feed_sample_weights)\n",
        "    f = K.function(symb_inputs, grads)\n",
        "    x, y, sample_weight = model._standardize_user_data(inputs, outputs)\n",
        "    output_grad = f(x + y + sample_weight)\n",
        "    return output_grad\n",
        "\n",
        "\n"
      ],
      "execution_count": 0,
      "outputs": []
    },
    {
      "cell_type": "code",
      "metadata": {
        "id": "afEOF9QLLfLN",
        "colab_type": "code",
        "colab": {}
      },
      "source": [
        "weight_grads = get_weight_grad(model, dummy_in, dummy_out)\n",
        "output_grad = get_layer_output_grad(model, dummy_in, dummy_out)"
      ],
      "execution_count": 0,
      "outputs": []
    },
    {
      "cell_type": "code",
      "metadata": {
        "id": "-53ODROaLp6U",
        "colab_type": "code",
        "colab": {}
      },
      "source": [
        ""
      ],
      "execution_count": 0,
      "outputs": []
    }
  ]
}